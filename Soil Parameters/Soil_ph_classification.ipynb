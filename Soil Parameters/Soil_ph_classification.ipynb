{
  "nbformat": 4,
  "nbformat_minor": 0,
  "metadata": {
    "colab": {
      "provenance": []
    },
    "kernelspec": {
      "name": "python3",
      "display_name": "Python 3"
    },
    "language_info": {
      "name": "python"
    }
  },
  "cells": [
    {
      "cell_type": "code",
      "source": [
        "import ee\n",
        "import numpy as np\n",
        "import pandas as pd\n",
        "import geopandas as gpd\n",
        "import matplotlib.pyplot as plt\n",
        "import geemap"
      ],
      "metadata": {
        "id": "6AK1mQJw3wQ_"
      },
      "execution_count": 1,
      "outputs": []
    },
    {
      "cell_type": "code",
      "source": [
        "# Authenticate and initialize Earth Engine\n",
        "ee.Authenticate()\n",
        "ee.Initialize(project='ee-vertifysaptarshi')"
      ],
      "metadata": {
        "id": "vL_ss4903yWS",
        "colab": {
          "base_uri": "https://localhost:8080/",
          "height": 17
        },
        "outputId": "99c11df8-c3fb-45f6-de38-90e27cce0ab5"
      },
      "execution_count": 2,
      "outputs": [
        {
          "output_type": "display_data",
          "data": {
            "text/plain": [
              "<IPython.core.display.HTML object>"
            ],
            "text/html": [
              "\n",
              "            <style>\n",
              "                .geemap-dark {\n",
              "                    --jp-widgets-color: white;\n",
              "                    --jp-widgets-label-color: white;\n",
              "                    --jp-ui-font-color1: white;\n",
              "                    --jp-layout-color2: #454545;\n",
              "                    background-color: #383838;\n",
              "                }\n",
              "\n",
              "                .geemap-dark .jupyter-button {\n",
              "                    --jp-layout-color3: #383838;\n",
              "                }\n",
              "\n",
              "                .geemap-colab {\n",
              "                    background-color: var(--colab-primary-surface-color, white);\n",
              "                }\n",
              "\n",
              "                .geemap-colab .jupyter-button {\n",
              "                    --jp-layout-color3: var(--colab-primary-surface-color, white);\n",
              "                }\n",
              "            </style>\n",
              "            "
            ]
          },
          "metadata": {}
        }
      ]
    },
    {
      "cell_type": "code",
      "source": [
        "# Load the feature collections\n",
        "# table = ee.FeatureCollection(\"projects/ee-vertifysaptarshi/assets/TelanganaSoilTesting_V2\")\n",
        "table = ee.FeatureCollection(\"projects/ee-vertifysaptarshi/assets/icraf_ph\")\n",
        "telangana = ee.FeatureCollection(\"projects/ee-vertifysaptarshi/assets/telangana_district\")"
      ],
      "metadata": {
        "id": "APWedK0f31YW",
        "colab": {
          "base_uri": "https://localhost:8080/",
          "height": 17
        },
        "outputId": "6163a2ac-17c2-49da-be6f-89729275f779"
      },
      "execution_count": 3,
      "outputs": [
        {
          "output_type": "display_data",
          "data": {
            "text/plain": [
              "<IPython.core.display.HTML object>"
            ],
            "text/html": [
              "\n",
              "            <style>\n",
              "                .geemap-dark {\n",
              "                    --jp-widgets-color: white;\n",
              "                    --jp-widgets-label-color: white;\n",
              "                    --jp-ui-font-color1: white;\n",
              "                    --jp-layout-color2: #454545;\n",
              "                    background-color: #383838;\n",
              "                }\n",
              "\n",
              "                .geemap-dark .jupyter-button {\n",
              "                    --jp-layout-color3: #383838;\n",
              "                }\n",
              "\n",
              "                .geemap-colab {\n",
              "                    background-color: var(--colab-primary-surface-color, white);\n",
              "                }\n",
              "\n",
              "                .geemap-colab .jupyter-button {\n",
              "                    --jp-layout-color3: var(--colab-primary-surface-color, white);\n",
              "                }\n",
              "            </style>\n",
              "            "
            ]
          },
          "metadata": {}
        }
      ]
    },
    {
      "cell_type": "code",
      "source": [
        "# Define the image collection and filter by date\n",
        "dataset = ee.ImageCollection('COPERNICUS/S2') \\\n",
        "          .filterDate('2023-05-01', '2023-06-01')"
      ],
      "metadata": {
        "id": "Jxvia8AF33rn",
        "colab": {
          "base_uri": "https://localhost:8080/",
          "height": 17
        },
        "outputId": "30a97f7e-6c67-4e8b-e17f-0c1e0aa06e8b"
      },
      "execution_count": 4,
      "outputs": [
        {
          "output_type": "display_data",
          "data": {
            "text/plain": [
              "<IPython.core.display.HTML object>"
            ],
            "text/html": [
              "\n",
              "            <style>\n",
              "                .geemap-dark {\n",
              "                    --jp-widgets-color: white;\n",
              "                    --jp-widgets-label-color: white;\n",
              "                    --jp-ui-font-color1: white;\n",
              "                    --jp-layout-color2: #454545;\n",
              "                    background-color: #383838;\n",
              "                }\n",
              "\n",
              "                .geemap-dark .jupyter-button {\n",
              "                    --jp-layout-color3: #383838;\n",
              "                }\n",
              "\n",
              "                .geemap-colab {\n",
              "                    background-color: var(--colab-primary-surface-color, white);\n",
              "                }\n",
              "\n",
              "                .geemap-colab .jupyter-button {\n",
              "                    --jp-layout-color3: var(--colab-primary-surface-color, white);\n",
              "                }\n",
              "            </style>\n",
              "            "
            ]
          },
          "metadata": {}
        }
      ]
    },
    {
      "cell_type": "code",
      "source": [
        "gdf = geemap.ee_to_gdf(table)"
      ],
      "metadata": {
        "colab": {
          "base_uri": "https://localhost:8080/",
          "height": 17
        },
        "id": "0cKTNbqBLR7S",
        "outputId": "3a5f8dbb-012a-449b-8fd4-909bf78c4bcc"
      },
      "execution_count": 5,
      "outputs": [
        {
          "output_type": "display_data",
          "data": {
            "text/plain": [
              "<IPython.core.display.HTML object>"
            ],
            "text/html": [
              "\n",
              "            <style>\n",
              "                .geemap-dark {\n",
              "                    --jp-widgets-color: white;\n",
              "                    --jp-widgets-label-color: white;\n",
              "                    --jp-ui-font-color1: white;\n",
              "                    --jp-layout-color2: #454545;\n",
              "                    background-color: #383838;\n",
              "                }\n",
              "\n",
              "                .geemap-dark .jupyter-button {\n",
              "                    --jp-layout-color3: #383838;\n",
              "                }\n",
              "\n",
              "                .geemap-colab {\n",
              "                    background-color: var(--colab-primary-surface-color, white);\n",
              "                }\n",
              "\n",
              "                .geemap-colab .jupyter-button {\n",
              "                    --jp-layout-color3: var(--colab-primary-surface-color, white);\n",
              "                }\n",
              "            </style>\n",
              "            "
            ]
          },
          "metadata": {}
        }
      ]
    },
    {
      "cell_type": "code",
      "source": [
        "# Define function to categorize pH values into custom classes\n",
        "def categorize_ph(ph):\n",
        "    if ph < 4.5:\n",
        "        return 1\n",
        "    elif 4.5 <= ph <= 5.9:\n",
        "        return 2\n",
        "    elif 6.0 <= ph <= 6.9:\n",
        "        return 3\n",
        "    elif 7.0 <= ph <= 7.8:\n",
        "        return 4\n",
        "    else:\n",
        "        return 5\n",
        "\n",
        "# Apply the function to create the 'PH Category' column\n",
        "gdf['PH Category'] = gdf['PH'].apply(categorize_ph)\n",
        "\n",
        "# Display the GeoDataFrame\n",
        "# print(gdf)\n",
        "\n",
        "# Create a dictionary for integer to string mapping\n",
        "category_mapping = {\n",
        "    1: 'Very Acidic',\n",
        "    2: 'Moderately Acidic',\n",
        "    3: 'Slightly Acidic',\n",
        "    4: 'Neutral',\n",
        "    5: 'Alkaline'\n",
        "}\n",
        "\n",
        "print(\"\\nDictionary for integer to string mapping:\")\n",
        "print(category_mapping)\n"
      ],
      "metadata": {
        "colab": {
          "base_uri": "https://localhost:8080/",
          "height": 69
        },
        "id": "VmqK8D8ZMwwA",
        "outputId": "3e594f46-9c49-46d5-acfd-a2d5a0e65327"
      },
      "execution_count": 6,
      "outputs": [
        {
          "output_type": "display_data",
          "data": {
            "text/plain": [
              "<IPython.core.display.HTML object>"
            ],
            "text/html": [
              "\n",
              "            <style>\n",
              "                .geemap-dark {\n",
              "                    --jp-widgets-color: white;\n",
              "                    --jp-widgets-label-color: white;\n",
              "                    --jp-ui-font-color1: white;\n",
              "                    --jp-layout-color2: #454545;\n",
              "                    background-color: #383838;\n",
              "                }\n",
              "\n",
              "                .geemap-dark .jupyter-button {\n",
              "                    --jp-layout-color3: #383838;\n",
              "                }\n",
              "\n",
              "                .geemap-colab {\n",
              "                    background-color: var(--colab-primary-surface-color, white);\n",
              "                }\n",
              "\n",
              "                .geemap-colab .jupyter-button {\n",
              "                    --jp-layout-color3: var(--colab-primary-surface-color, white);\n",
              "                }\n",
              "            </style>\n",
              "            "
            ]
          },
          "metadata": {}
        },
        {
          "output_type": "stream",
          "name": "stdout",
          "text": [
            "\n",
            "Dictionary for integer to string mapping:\n",
            "{1: 'Very Acidic', 2: 'Moderately Acidic', 3: 'Slightly Acidic', 4: 'Neutral', 5: 'Alkaline'}\n"
          ]
        }
      ]
    },
    {
      "cell_type": "code",
      "source": [
        "gdf['PH Category'].unique()"
      ],
      "metadata": {
        "colab": {
          "base_uri": "https://localhost:8080/",
          "height": 34
        },
        "id": "BA1ADJkLM5Ct",
        "outputId": "082ccdd0-f7c3-4044-db17-da79f44510f9"
      },
      "execution_count": 7,
      "outputs": [
        {
          "output_type": "display_data",
          "data": {
            "text/plain": [
              "<IPython.core.display.HTML object>"
            ],
            "text/html": [
              "\n",
              "            <style>\n",
              "                .geemap-dark {\n",
              "                    --jp-widgets-color: white;\n",
              "                    --jp-widgets-label-color: white;\n",
              "                    --jp-ui-font-color1: white;\n",
              "                    --jp-layout-color2: #454545;\n",
              "                    background-color: #383838;\n",
              "                }\n",
              "\n",
              "                .geemap-dark .jupyter-button {\n",
              "                    --jp-layout-color3: #383838;\n",
              "                }\n",
              "\n",
              "                .geemap-colab {\n",
              "                    background-color: var(--colab-primary-surface-color, white);\n",
              "                }\n",
              "\n",
              "                .geemap-colab .jupyter-button {\n",
              "                    --jp-layout-color3: var(--colab-primary-surface-color, white);\n",
              "                }\n",
              "            </style>\n",
              "            "
            ]
          },
          "metadata": {}
        },
        {
          "output_type": "execute_result",
          "data": {
            "text/plain": [
              "array([4, 5, 3, 2, 1])"
            ]
          },
          "metadata": {},
          "execution_count": 7
        }
      ]
    },
    {
      "cell_type": "code",
      "source": [
        "gdf['PH Category'].value_counts()"
      ],
      "metadata": {
        "colab": {
          "base_uri": "https://localhost:8080/",
          "height": 121
        },
        "id": "vvjwIpSoQe-B",
        "outputId": "a739093f-fb4f-496c-ebfc-ffb4d96cebe9"
      },
      "execution_count": 8,
      "outputs": [
        {
          "output_type": "display_data",
          "data": {
            "text/plain": [
              "<IPython.core.display.HTML object>"
            ],
            "text/html": [
              "\n",
              "            <style>\n",
              "                .geemap-dark {\n",
              "                    --jp-widgets-color: white;\n",
              "                    --jp-widgets-label-color: white;\n",
              "                    --jp-ui-font-color1: white;\n",
              "                    --jp-layout-color2: #454545;\n",
              "                    background-color: #383838;\n",
              "                }\n",
              "\n",
              "                .geemap-dark .jupyter-button {\n",
              "                    --jp-layout-color3: #383838;\n",
              "                }\n",
              "\n",
              "                .geemap-colab {\n",
              "                    background-color: var(--colab-primary-surface-color, white);\n",
              "                }\n",
              "\n",
              "                .geemap-colab .jupyter-button {\n",
              "                    --jp-layout-color3: var(--colab-primary-surface-color, white);\n",
              "                }\n",
              "            </style>\n",
              "            "
            ]
          },
          "metadata": {}
        },
        {
          "output_type": "execute_result",
          "data": {
            "text/plain": [
              "2    62\n",
              "3    44\n",
              "4    25\n",
              "5    13\n",
              "1     1\n",
              "Name: PH Category, dtype: int64"
            ]
          },
          "metadata": {},
          "execution_count": 8
        }
      ]
    },
    {
      "cell_type": "code",
      "source": [
        "table = geemap.gdf_to_ee(gdf)"
      ],
      "metadata": {
        "colab": {
          "base_uri": "https://localhost:8080/",
          "height": 17
        },
        "id": "yopfu1JDNKEu",
        "outputId": "cd2f5f6a-574d-4684-b8c5-fde5ae2a332a"
      },
      "execution_count": 9,
      "outputs": [
        {
          "output_type": "display_data",
          "data": {
            "text/plain": [
              "<IPython.core.display.HTML object>"
            ],
            "text/html": [
              "\n",
              "            <style>\n",
              "                .geemap-dark {\n",
              "                    --jp-widgets-color: white;\n",
              "                    --jp-widgets-label-color: white;\n",
              "                    --jp-ui-font-color1: white;\n",
              "                    --jp-layout-color2: #454545;\n",
              "                    background-color: #383838;\n",
              "                }\n",
              "\n",
              "                .geemap-dark .jupyter-button {\n",
              "                    --jp-layout-color3: #383838;\n",
              "                }\n",
              "\n",
              "                .geemap-colab {\n",
              "                    background-color: var(--colab-primary-surface-color, white);\n",
              "                }\n",
              "\n",
              "                .geemap-colab .jupyter-button {\n",
              "                    --jp-layout-color3: var(--colab-primary-surface-color, white);\n",
              "                }\n",
              "            </style>\n",
              "            "
            ]
          },
          "metadata": {}
        }
      ]
    },
    {
      "cell_type": "code",
      "source": [
        "# Function to apply scaling factors\n",
        "def apply_scale_factors(image):\n",
        "    optical_bands = image.select(['B4', 'B3', 'B2']).multiply(0.0001)\n",
        "    return image.addBands(optical_bands, None, True)\n",
        "\n",
        "# Map the scaling function to the image collection\n",
        "dataset = dataset.map(apply_scale_factors)\n",
        "\n",
        "# Visualization parameters\n",
        "visualization = {\n",
        "    'bands': ['B4', 'B3', 'B2'],\n",
        "    'min': 0.0,\n",
        "    'max': 0.3,\n",
        "}\n",
        "\n",
        "# Create a mosaic of the image collection\n",
        "l8_img = dataset.mosaic()"
      ],
      "metadata": {
        "colab": {
          "base_uri": "https://localhost:8080/",
          "height": 17
        },
        "id": "pGSbKlNW38ta",
        "outputId": "f2f6760e-14b0-43ec-aadb-d5caad7412d5"
      },
      "execution_count": 10,
      "outputs": [
        {
          "output_type": "display_data",
          "data": {
            "text/plain": [
              "<IPython.core.display.HTML object>"
            ],
            "text/html": [
              "\n",
              "            <style>\n",
              "                .geemap-dark {\n",
              "                    --jp-widgets-color: white;\n",
              "                    --jp-widgets-label-color: white;\n",
              "                    --jp-ui-font-color1: white;\n",
              "                    --jp-layout-color2: #454545;\n",
              "                    background-color: #383838;\n",
              "                }\n",
              "\n",
              "                .geemap-dark .jupyter-button {\n",
              "                    --jp-layout-color3: #383838;\n",
              "                }\n",
              "\n",
              "                .geemap-colab {\n",
              "                    background-color: var(--colab-primary-surface-color, white);\n",
              "                }\n",
              "\n",
              "                .geemap-colab .jupyter-button {\n",
              "                    --jp-layout-color3: var(--colab-primary-surface-color, white);\n",
              "                }\n",
              "            </style>\n",
              "            "
            ]
          },
          "metadata": {}
        }
      ]
    },
    {
      "cell_type": "code",
      "source": [
        "# Extract bands\n",
        "green = l8_img.select('B3').toFloat()\n",
        "red = l8_img.select('B4').toFloat()\n",
        "nir = l8_img.select('B8').toFloat()  # NIR band in Sentinel-2\n",
        "\n",
        "# Prepare the indices\n",
        "SI1 = green.multiply(red).sqrt().rename('SI1')\n",
        "SI2 = green.pow(2).add(red.pow(2)).add(nir.pow(2)).sqrt().rename('SI2')\n",
        "NDSI = nir.subtract(red).divide(nir.add(red)).rename('NDSI')\n",
        "BI = red.pow(2).add(nir.pow(2)).sqrt().rename('BI')\n",
        "NDVI = l8_img.normalizedDifference(['B8', 'B4']).rename('NDVI')  # NIR and Red bands in Sentinel-2\n",
        "SRSI = NDVI.subtract(1).pow(2).add(SI1.pow(2)).sqrt().rename('SRSI')\n",
        "\n",
        "l8_img = l8_img.addBands([SI1, SI2, NDSI, BI, SRSI])\n",
        "l8_img = l8_img.select('SI1', 'SI2', 'NDSI', 'BI', 'SRSI')"
      ],
      "metadata": {
        "colab": {
          "base_uri": "https://localhost:8080/",
          "height": 17
        },
        "id": "WU191RvZ4AW1",
        "outputId": "e81e87a1-1e34-460d-fa29-9f1542929709"
      },
      "execution_count": 11,
      "outputs": [
        {
          "output_type": "display_data",
          "data": {
            "text/plain": [
              "<IPython.core.display.HTML object>"
            ],
            "text/html": [
              "\n",
              "            <style>\n",
              "                .geemap-dark {\n",
              "                    --jp-widgets-color: white;\n",
              "                    --jp-widgets-label-color: white;\n",
              "                    --jp-ui-font-color1: white;\n",
              "                    --jp-layout-color2: #454545;\n",
              "                    background-color: #383838;\n",
              "                }\n",
              "\n",
              "                .geemap-dark .jupyter-button {\n",
              "                    --jp-layout-color3: #383838;\n",
              "                }\n",
              "\n",
              "                .geemap-colab {\n",
              "                    background-color: var(--colab-primary-surface-color, white);\n",
              "                }\n",
              "\n",
              "                .geemap-colab .jupyter-button {\n",
              "                    --jp-layout-color3: var(--colab-primary-surface-color, white);\n",
              "                }\n",
              "            </style>\n",
              "            "
            ]
          },
          "metadata": {}
        }
      ]
    },
    {
      "cell_type": "code",
      "source": [
        "# Sample regions\n",
        "training_data = l8_img.sampleRegions(\n",
        "    collection=table,\n",
        "    # properties=['Sample No', 'Soil pH', 'Soil pH Result'], #For WRMS\n",
        "    properties=['Sample No', 'PH Category'], #For ICRAF\n",
        "    scale=10\n",
        ")\n",
        "\n",
        "# Define the bands for regression\n",
        "bands = [\n",
        "    'SI1',\n",
        "    'SI2',\n",
        "    'NDSI',\n",
        "    'BI',\n",
        "    'SRSI'\n",
        "    ]\n",
        "\n",
        "# Define the target variable\n",
        "target = 'PH Category'"
      ],
      "metadata": {
        "colab": {
          "base_uri": "https://localhost:8080/",
          "height": 17
        },
        "id": "sSXMF84S4ETs",
        "outputId": "697fea60-9320-4454-df2f-de72fb9d773d"
      },
      "execution_count": 12,
      "outputs": [
        {
          "output_type": "display_data",
          "data": {
            "text/plain": [
              "<IPython.core.display.HTML object>"
            ],
            "text/html": [
              "\n",
              "            <style>\n",
              "                .geemap-dark {\n",
              "                    --jp-widgets-color: white;\n",
              "                    --jp-widgets-label-color: white;\n",
              "                    --jp-ui-font-color1: white;\n",
              "                    --jp-layout-color2: #454545;\n",
              "                    background-color: #383838;\n",
              "                }\n",
              "\n",
              "                .geemap-dark .jupyter-button {\n",
              "                    --jp-layout-color3: #383838;\n",
              "                }\n",
              "\n",
              "                .geemap-colab {\n",
              "                    background-color: var(--colab-primary-surface-color, white);\n",
              "                }\n",
              "\n",
              "                .geemap-colab .jupyter-button {\n",
              "                    --jp-layout-color3: var(--colab-primary-surface-color, white);\n",
              "                }\n",
              "            </style>\n",
              "            "
            ]
          },
          "metadata": {}
        }
      ]
    },
    {
      "cell_type": "code",
      "source": [
        "# Split data into training and validation sets\n",
        "split = 0.75\n",
        "training_partition = training_data.randomColumn('random').filter(ee.Filter.lt('random', split))\n",
        "validation_partition = training_data.randomColumn('random').filter(ee.Filter.gte('random', split))"
      ],
      "metadata": {
        "colab": {
          "base_uri": "https://localhost:8080/",
          "height": 17
        },
        "id": "BUm7BrTk4KKw",
        "outputId": "abf197e1-aa3e-41fc-973f-c5d68299fd68"
      },
      "execution_count": 13,
      "outputs": [
        {
          "output_type": "display_data",
          "data": {
            "text/plain": [
              "<IPython.core.display.HTML object>"
            ],
            "text/html": [
              "\n",
              "            <style>\n",
              "                .geemap-dark {\n",
              "                    --jp-widgets-color: white;\n",
              "                    --jp-widgets-label-color: white;\n",
              "                    --jp-ui-font-color1: white;\n",
              "                    --jp-layout-color2: #454545;\n",
              "                    background-color: #383838;\n",
              "                }\n",
              "\n",
              "                .geemap-dark .jupyter-button {\n",
              "                    --jp-layout-color3: #383838;\n",
              "                }\n",
              "\n",
              "                .geemap-colab {\n",
              "                    background-color: var(--colab-primary-surface-color, white);\n",
              "                }\n",
              "\n",
              "                .geemap-colab .jupyter-button {\n",
              "                    --jp-layout-color3: var(--colab-primary-surface-color, white);\n",
              "                }\n",
              "            </style>\n",
              "            "
            ]
          },
          "metadata": {}
        }
      ]
    },
    {
      "cell_type": "code",
      "source": [
        "# Convert training data to a pandas DataFrame\n",
        "training_df = geemap.ee_to_df(training_data)\n",
        "\n",
        "# Display the DataFrame\n",
        "training_df.head(10)"
      ],
      "metadata": {
        "colab": {
          "base_uri": "https://localhost:8080/",
          "height": 363
        },
        "id": "mrH288z5ATIQ",
        "outputId": "db5976e7-9524-42c3-c4e5-bf95d758d203"
      },
      "execution_count": 14,
      "outputs": [
        {
          "output_type": "display_data",
          "data": {
            "text/plain": [
              "<IPython.core.display.HTML object>"
            ],
            "text/html": [
              "\n",
              "            <style>\n",
              "                .geemap-dark {\n",
              "                    --jp-widgets-color: white;\n",
              "                    --jp-widgets-label-color: white;\n",
              "                    --jp-ui-font-color1: white;\n",
              "                    --jp-layout-color2: #454545;\n",
              "                    background-color: #383838;\n",
              "                }\n",
              "\n",
              "                .geemap-dark .jupyter-button {\n",
              "                    --jp-layout-color3: #383838;\n",
              "                }\n",
              "\n",
              "                .geemap-colab {\n",
              "                    background-color: var(--colab-primary-surface-color, white);\n",
              "                }\n",
              "\n",
              "                .geemap-colab .jupyter-button {\n",
              "                    --jp-layout-color3: var(--colab-primary-surface-color, white);\n",
              "                }\n",
              "            </style>\n",
              "            "
            ]
          },
          "metadata": {}
        },
        {
          "output_type": "execute_result",
          "data": {
            "text/plain": [
              "            BI      NDSI  PH Category       SI1          SI2      SRSI\n",
              "0  3193.000011  0.999835            4  0.257059  3193.000021  0.257059\n",
              "1  3336.000010  0.999848            4  0.250123  3336.000019  0.250123\n",
              "2  3188.000011  0.999832            4  0.259470  3188.000021  0.259471\n",
              "3  3021.000011  0.999832            4  0.249658  3021.000021  0.249658\n",
              "4  3105.000010  0.999838            4  0.248083  3105.000020  0.248083\n",
              "5  3061.000011  0.999831            4  0.252996  3061.000021  0.252996\n",
              "6  3193.000011  0.999834            5  0.258179  3193.000021  0.258179\n",
              "7  3322.000009  0.999857            3  0.234274  3322.000017  0.234274\n",
              "8  3379.000010  0.999850            2  0.247679  3379.000018  0.247679\n",
              "9  3171.000010  0.999838            2  0.248226  3171.000019  0.248226"
            ],
            "text/html": [
              "\n",
              "  <div id=\"df-fb8be1eb-77da-483c-a971-ce316967c12d\" class=\"colab-df-container\">\n",
              "    <div>\n",
              "<style scoped>\n",
              "    .dataframe tbody tr th:only-of-type {\n",
              "        vertical-align: middle;\n",
              "    }\n",
              "\n",
              "    .dataframe tbody tr th {\n",
              "        vertical-align: top;\n",
              "    }\n",
              "\n",
              "    .dataframe thead th {\n",
              "        text-align: right;\n",
              "    }\n",
              "</style>\n",
              "<table border=\"1\" class=\"dataframe\">\n",
              "  <thead>\n",
              "    <tr style=\"text-align: right;\">\n",
              "      <th></th>\n",
              "      <th>BI</th>\n",
              "      <th>NDSI</th>\n",
              "      <th>PH Category</th>\n",
              "      <th>SI1</th>\n",
              "      <th>SI2</th>\n",
              "      <th>SRSI</th>\n",
              "    </tr>\n",
              "  </thead>\n",
              "  <tbody>\n",
              "    <tr>\n",
              "      <th>0</th>\n",
              "      <td>3193.000011</td>\n",
              "      <td>0.999835</td>\n",
              "      <td>4</td>\n",
              "      <td>0.257059</td>\n",
              "      <td>3193.000021</td>\n",
              "      <td>0.257059</td>\n",
              "    </tr>\n",
              "    <tr>\n",
              "      <th>1</th>\n",
              "      <td>3336.000010</td>\n",
              "      <td>0.999848</td>\n",
              "      <td>4</td>\n",
              "      <td>0.250123</td>\n",
              "      <td>3336.000019</td>\n",
              "      <td>0.250123</td>\n",
              "    </tr>\n",
              "    <tr>\n",
              "      <th>2</th>\n",
              "      <td>3188.000011</td>\n",
              "      <td>0.999832</td>\n",
              "      <td>4</td>\n",
              "      <td>0.259470</td>\n",
              "      <td>3188.000021</td>\n",
              "      <td>0.259471</td>\n",
              "    </tr>\n",
              "    <tr>\n",
              "      <th>3</th>\n",
              "      <td>3021.000011</td>\n",
              "      <td>0.999832</td>\n",
              "      <td>4</td>\n",
              "      <td>0.249658</td>\n",
              "      <td>3021.000021</td>\n",
              "      <td>0.249658</td>\n",
              "    </tr>\n",
              "    <tr>\n",
              "      <th>4</th>\n",
              "      <td>3105.000010</td>\n",
              "      <td>0.999838</td>\n",
              "      <td>4</td>\n",
              "      <td>0.248083</td>\n",
              "      <td>3105.000020</td>\n",
              "      <td>0.248083</td>\n",
              "    </tr>\n",
              "    <tr>\n",
              "      <th>5</th>\n",
              "      <td>3061.000011</td>\n",
              "      <td>0.999831</td>\n",
              "      <td>4</td>\n",
              "      <td>0.252996</td>\n",
              "      <td>3061.000021</td>\n",
              "      <td>0.252996</td>\n",
              "    </tr>\n",
              "    <tr>\n",
              "      <th>6</th>\n",
              "      <td>3193.000011</td>\n",
              "      <td>0.999834</td>\n",
              "      <td>5</td>\n",
              "      <td>0.258179</td>\n",
              "      <td>3193.000021</td>\n",
              "      <td>0.258179</td>\n",
              "    </tr>\n",
              "    <tr>\n",
              "      <th>7</th>\n",
              "      <td>3322.000009</td>\n",
              "      <td>0.999857</td>\n",
              "      <td>3</td>\n",
              "      <td>0.234274</td>\n",
              "      <td>3322.000017</td>\n",
              "      <td>0.234274</td>\n",
              "    </tr>\n",
              "    <tr>\n",
              "      <th>8</th>\n",
              "      <td>3379.000010</td>\n",
              "      <td>0.999850</td>\n",
              "      <td>2</td>\n",
              "      <td>0.247679</td>\n",
              "      <td>3379.000018</td>\n",
              "      <td>0.247679</td>\n",
              "    </tr>\n",
              "    <tr>\n",
              "      <th>9</th>\n",
              "      <td>3171.000010</td>\n",
              "      <td>0.999838</td>\n",
              "      <td>2</td>\n",
              "      <td>0.248226</td>\n",
              "      <td>3171.000019</td>\n",
              "      <td>0.248226</td>\n",
              "    </tr>\n",
              "  </tbody>\n",
              "</table>\n",
              "</div>\n",
              "    <div class=\"colab-df-buttons\">\n",
              "\n",
              "  <div class=\"colab-df-container\">\n",
              "    <button class=\"colab-df-convert\" onclick=\"convertToInteractive('df-fb8be1eb-77da-483c-a971-ce316967c12d')\"\n",
              "            title=\"Convert this dataframe to an interactive table.\"\n",
              "            style=\"display:none;\">\n",
              "\n",
              "  <svg xmlns=\"http://www.w3.org/2000/svg\" height=\"24px\" viewBox=\"0 -960 960 960\">\n",
              "    <path d=\"M120-120v-720h720v720H120Zm60-500h600v-160H180v160Zm220 220h160v-160H400v160Zm0 220h160v-160H400v160ZM180-400h160v-160H180v160Zm440 0h160v-160H620v160ZM180-180h160v-160H180v160Zm440 0h160v-160H620v160Z\"/>\n",
              "  </svg>\n",
              "    </button>\n",
              "\n",
              "  <style>\n",
              "    .colab-df-container {\n",
              "      display:flex;\n",
              "      gap: 12px;\n",
              "    }\n",
              "\n",
              "    .colab-df-convert {\n",
              "      background-color: #E8F0FE;\n",
              "      border: none;\n",
              "      border-radius: 50%;\n",
              "      cursor: pointer;\n",
              "      display: none;\n",
              "      fill: #1967D2;\n",
              "      height: 32px;\n",
              "      padding: 0 0 0 0;\n",
              "      width: 32px;\n",
              "    }\n",
              "\n",
              "    .colab-df-convert:hover {\n",
              "      background-color: #E2EBFA;\n",
              "      box-shadow: 0px 1px 2px rgba(60, 64, 67, 0.3), 0px 1px 3px 1px rgba(60, 64, 67, 0.15);\n",
              "      fill: #174EA6;\n",
              "    }\n",
              "\n",
              "    .colab-df-buttons div {\n",
              "      margin-bottom: 4px;\n",
              "    }\n",
              "\n",
              "    [theme=dark] .colab-df-convert {\n",
              "      background-color: #3B4455;\n",
              "      fill: #D2E3FC;\n",
              "    }\n",
              "\n",
              "    [theme=dark] .colab-df-convert:hover {\n",
              "      background-color: #434B5C;\n",
              "      box-shadow: 0px 1px 3px 1px rgba(0, 0, 0, 0.15);\n",
              "      filter: drop-shadow(0px 1px 2px rgba(0, 0, 0, 0.3));\n",
              "      fill: #FFFFFF;\n",
              "    }\n",
              "  </style>\n",
              "\n",
              "    <script>\n",
              "      const buttonEl =\n",
              "        document.querySelector('#df-fb8be1eb-77da-483c-a971-ce316967c12d button.colab-df-convert');\n",
              "      buttonEl.style.display =\n",
              "        google.colab.kernel.accessAllowed ? 'block' : 'none';\n",
              "\n",
              "      async function convertToInteractive(key) {\n",
              "        const element = document.querySelector('#df-fb8be1eb-77da-483c-a971-ce316967c12d');\n",
              "        const dataTable =\n",
              "          await google.colab.kernel.invokeFunction('convertToInteractive',\n",
              "                                                    [key], {});\n",
              "        if (!dataTable) return;\n",
              "\n",
              "        const docLinkHtml = 'Like what you see? Visit the ' +\n",
              "          '<a target=\"_blank\" href=https://colab.research.google.com/notebooks/data_table.ipynb>data table notebook</a>'\n",
              "          + ' to learn more about interactive tables.';\n",
              "        element.innerHTML = '';\n",
              "        dataTable['output_type'] = 'display_data';\n",
              "        await google.colab.output.renderOutput(dataTable, element);\n",
              "        const docLink = document.createElement('div');\n",
              "        docLink.innerHTML = docLinkHtml;\n",
              "        element.appendChild(docLink);\n",
              "      }\n",
              "    </script>\n",
              "  </div>\n",
              "\n",
              "\n",
              "<div id=\"df-a08c2581-148a-4b16-871f-b4cc4fff9662\">\n",
              "  <button class=\"colab-df-quickchart\" onclick=\"quickchart('df-a08c2581-148a-4b16-871f-b4cc4fff9662')\"\n",
              "            title=\"Suggest charts\"\n",
              "            style=\"display:none;\">\n",
              "\n",
              "<svg xmlns=\"http://www.w3.org/2000/svg\" height=\"24px\"viewBox=\"0 0 24 24\"\n",
              "     width=\"24px\">\n",
              "    <g>\n",
              "        <path d=\"M19 3H5c-1.1 0-2 .9-2 2v14c0 1.1.9 2 2 2h14c1.1 0 2-.9 2-2V5c0-1.1-.9-2-2-2zM9 17H7v-7h2v7zm4 0h-2V7h2v10zm4 0h-2v-4h2v4z\"/>\n",
              "    </g>\n",
              "</svg>\n",
              "  </button>\n",
              "\n",
              "<style>\n",
              "  .colab-df-quickchart {\n",
              "      --bg-color: #E8F0FE;\n",
              "      --fill-color: #1967D2;\n",
              "      --hover-bg-color: #E2EBFA;\n",
              "      --hover-fill-color: #174EA6;\n",
              "      --disabled-fill-color: #AAA;\n",
              "      --disabled-bg-color: #DDD;\n",
              "  }\n",
              "\n",
              "  [theme=dark] .colab-df-quickchart {\n",
              "      --bg-color: #3B4455;\n",
              "      --fill-color: #D2E3FC;\n",
              "      --hover-bg-color: #434B5C;\n",
              "      --hover-fill-color: #FFFFFF;\n",
              "      --disabled-bg-color: #3B4455;\n",
              "      --disabled-fill-color: #666;\n",
              "  }\n",
              "\n",
              "  .colab-df-quickchart {\n",
              "    background-color: var(--bg-color);\n",
              "    border: none;\n",
              "    border-radius: 50%;\n",
              "    cursor: pointer;\n",
              "    display: none;\n",
              "    fill: var(--fill-color);\n",
              "    height: 32px;\n",
              "    padding: 0;\n",
              "    width: 32px;\n",
              "  }\n",
              "\n",
              "  .colab-df-quickchart:hover {\n",
              "    background-color: var(--hover-bg-color);\n",
              "    box-shadow: 0 1px 2px rgba(60, 64, 67, 0.3), 0 1px 3px 1px rgba(60, 64, 67, 0.15);\n",
              "    fill: var(--button-hover-fill-color);\n",
              "  }\n",
              "\n",
              "  .colab-df-quickchart-complete:disabled,\n",
              "  .colab-df-quickchart-complete:disabled:hover {\n",
              "    background-color: var(--disabled-bg-color);\n",
              "    fill: var(--disabled-fill-color);\n",
              "    box-shadow: none;\n",
              "  }\n",
              "\n",
              "  .colab-df-spinner {\n",
              "    border: 2px solid var(--fill-color);\n",
              "    border-color: transparent;\n",
              "    border-bottom-color: var(--fill-color);\n",
              "    animation:\n",
              "      spin 1s steps(1) infinite;\n",
              "  }\n",
              "\n",
              "  @keyframes spin {\n",
              "    0% {\n",
              "      border-color: transparent;\n",
              "      border-bottom-color: var(--fill-color);\n",
              "      border-left-color: var(--fill-color);\n",
              "    }\n",
              "    20% {\n",
              "      border-color: transparent;\n",
              "      border-left-color: var(--fill-color);\n",
              "      border-top-color: var(--fill-color);\n",
              "    }\n",
              "    30% {\n",
              "      border-color: transparent;\n",
              "      border-left-color: var(--fill-color);\n",
              "      border-top-color: var(--fill-color);\n",
              "      border-right-color: var(--fill-color);\n",
              "    }\n",
              "    40% {\n",
              "      border-color: transparent;\n",
              "      border-right-color: var(--fill-color);\n",
              "      border-top-color: var(--fill-color);\n",
              "    }\n",
              "    60% {\n",
              "      border-color: transparent;\n",
              "      border-right-color: var(--fill-color);\n",
              "    }\n",
              "    80% {\n",
              "      border-color: transparent;\n",
              "      border-right-color: var(--fill-color);\n",
              "      border-bottom-color: var(--fill-color);\n",
              "    }\n",
              "    90% {\n",
              "      border-color: transparent;\n",
              "      border-bottom-color: var(--fill-color);\n",
              "    }\n",
              "  }\n",
              "</style>\n",
              "\n",
              "  <script>\n",
              "    async function quickchart(key) {\n",
              "      const quickchartButtonEl =\n",
              "        document.querySelector('#' + key + ' button');\n",
              "      quickchartButtonEl.disabled = true;  // To prevent multiple clicks.\n",
              "      quickchartButtonEl.classList.add('colab-df-spinner');\n",
              "      try {\n",
              "        const charts = await google.colab.kernel.invokeFunction(\n",
              "            'suggestCharts', [key], {});\n",
              "      } catch (error) {\n",
              "        console.error('Error during call to suggestCharts:', error);\n",
              "      }\n",
              "      quickchartButtonEl.classList.remove('colab-df-spinner');\n",
              "      quickchartButtonEl.classList.add('colab-df-quickchart-complete');\n",
              "    }\n",
              "    (() => {\n",
              "      let quickchartButtonEl =\n",
              "        document.querySelector('#df-a08c2581-148a-4b16-871f-b4cc4fff9662 button');\n",
              "      quickchartButtonEl.style.display =\n",
              "        google.colab.kernel.accessAllowed ? 'block' : 'none';\n",
              "    })();\n",
              "  </script>\n",
              "</div>\n",
              "    </div>\n",
              "  </div>\n"
            ],
            "application/vnd.google.colaboratory.intrinsic+json": {
              "type": "dataframe",
              "variable_name": "training_df",
              "summary": "{\n  \"name\": \"training_df\",\n  \"rows\": 145,\n  \"fields\": [\n    {\n      \"column\": \"BI\",\n      \"properties\": {\n        \"dtype\": \"number\",\n        \"std\": 213.8008981891637,\n        \"min\": 2508.000010832458,\n        \"max\": 3986.0000066993484,\n        \"num_unique_values\": 141,\n        \"samples\": [\n          3136.0000078790317,\n          3986.0000066993484,\n          3199.0000096751232\n        ],\n        \"semantic_type\": \"\",\n        \"description\": \"\"\n      }\n    },\n    {\n      \"column\": \"NDSI\",\n      \"properties\": {\n        \"dtype\": \"number\",\n        \"std\": 1.2804941315630265e-05,\n        \"min\": 0.9998141527175903,\n        \"max\": 0.9998892545700073,\n        \"num_unique_values\": 132,\n        \"samples\": [\n          0.9998520016670227,\n          0.9998639225959778,\n          0.9998568892478943\n        ],\n        \"semantic_type\": \"\",\n        \"description\": \"\"\n      }\n    },\n    {\n      \"column\": \"PH Category\",\n      \"properties\": {\n        \"dtype\": \"number\",\n        \"std\": 0,\n        \"min\": 1,\n        \"max\": 5,\n        \"num_unique_values\": 5,\n        \"samples\": [\n          5,\n          1,\n          3\n        ],\n        \"semantic_type\": \"\",\n        \"description\": \"\"\n      }\n    },\n    {\n      \"column\": \"SI1\",\n      \"properties\": {\n        \"dtype\": \"number\",\n        \"std\": 0.016340315064550883,\n        \"min\": 0.20413936530627427,\n        \"max\": 0.2824242286103713,\n        \"num_unique_values\": 141,\n        \"samples\": [\n          0.2220999070573281,\n          0.23590014149705865,\n          0.24246946269688588\n        ],\n        \"semantic_type\": \"\",\n        \"description\": \"\"\n      }\n    },\n    {\n      \"column\": \"SI2\",\n      \"properties\": {\n        \"dtype\": \"number\",\n        \"std\": 213.80089801570605,\n        \"min\": 2508.0000215351874,\n        \"max\": 3986.0000139728854,\n        \"num_unique_values\": 141,\n        \"samples\": [\n          3136.0000157297345,\n          3986.0000139728854,\n          3199.00001840249\n        ],\n        \"semantic_type\": \"\",\n        \"description\": \"\"\n      }\n    },\n    {\n      \"column\": \"SRSI\",\n      \"properties\": {\n        \"dtype\": \"number\",\n        \"std\": 0.01634031711451886,\n        \"min\": 0.20413939533007705,\n        \"max\": 0.28242427333139997,\n        \"num_unique_values\": 141,\n        \"samples\": [\n          0.22209995229985185,\n          0.23590016999258692,\n          0.24246951258276403\n        ],\n        \"semantic_type\": \"\",\n        \"description\": \"\"\n      }\n    }\n  ]\n}"
            }
          },
          "metadata": {},
          "execution_count": 14
        }
      ]
    },
    {
      "cell_type": "code",
      "source": [
        "# Train the regressor\n",
        "regressor = ee.Classifier.smileGradientTreeBoost(\n",
        "    loss='LeastSquares',\n",
        "    numberOfTrees=50,\n",
        "    seed=20\n",
        ")\n",
        "regressor = ee.Classifier.smileRandomForest(numberOfTrees=80,\n",
        "                                             seed=20)\n",
        "# Train the model\n",
        "trained_regressor = regressor.train(\n",
        "    features=training_partition,\n",
        "    classProperty=target,\n",
        "    inputProperties=bands\n",
        ")"
      ],
      "metadata": {
        "colab": {
          "base_uri": "https://localhost:8080/",
          "height": 17
        },
        "id": "Yz6tt4dc4NNY",
        "outputId": "c46f8c1b-eed2-4c3f-f4ad-309d27afea91"
      },
      "execution_count": 15,
      "outputs": [
        {
          "output_type": "display_data",
          "data": {
            "text/plain": [
              "<IPython.core.display.HTML object>"
            ],
            "text/html": [
              "\n",
              "            <style>\n",
              "                .geemap-dark {\n",
              "                    --jp-widgets-color: white;\n",
              "                    --jp-widgets-label-color: white;\n",
              "                    --jp-ui-font-color1: white;\n",
              "                    --jp-layout-color2: #454545;\n",
              "                    background-color: #383838;\n",
              "                }\n",
              "\n",
              "                .geemap-dark .jupyter-button {\n",
              "                    --jp-layout-color3: #383838;\n",
              "                }\n",
              "\n",
              "                .geemap-colab {\n",
              "                    background-color: var(--colab-primary-surface-color, white);\n",
              "                }\n",
              "\n",
              "                .geemap-colab .jupyter-button {\n",
              "                    --jp-layout-color3: var(--colab-primary-surface-color, white);\n",
              "                }\n",
              "            </style>\n",
              "            "
            ]
          },
          "metadata": {}
        }
      ]
    },
    {
      "cell_type": "code",
      "source": [
        "# Uncomment to view the importances\n",
        "# trained_regressor.explain()"
      ],
      "metadata": {
        "colab": {
          "base_uri": "https://localhost:8080/",
          "height": 17
        },
        "id": "NDKh7eafQrIU",
        "outputId": "a5c432af-97a6-4b4d-d40d-8b90184e7f7d"
      },
      "execution_count": 16,
      "outputs": [
        {
          "output_type": "display_data",
          "data": {
            "text/plain": [
              "<IPython.core.display.HTML object>"
            ],
            "text/html": [
              "\n",
              "            <style>\n",
              "                .geemap-dark {\n",
              "                    --jp-widgets-color: white;\n",
              "                    --jp-widgets-label-color: white;\n",
              "                    --jp-ui-font-color1: white;\n",
              "                    --jp-layout-color2: #454545;\n",
              "                    background-color: #383838;\n",
              "                }\n",
              "\n",
              "                .geemap-dark .jupyter-button {\n",
              "                    --jp-layout-color3: #383838;\n",
              "                }\n",
              "\n",
              "                .geemap-colab {\n",
              "                    background-color: var(--colab-primary-surface-color, white);\n",
              "                }\n",
              "\n",
              "                .geemap-colab .jupyter-button {\n",
              "                    --jp-layout-color3: var(--colab-primary-surface-color, white);\n",
              "                }\n",
              "            </style>\n",
              "            "
            ]
          },
          "metadata": {}
        }
      ]
    },
    {
      "cell_type": "code",
      "source": [
        "# Classify the training and validation partitions\n",
        "train = training_partition.classify(trained_regressor)\n",
        "val = validation_partition.classify(trained_regressor)"
      ],
      "metadata": {
        "colab": {
          "base_uri": "https://localhost:8080/",
          "height": 17
        },
        "id": "99zxzwkS4QgJ",
        "outputId": "201e0f5a-6dd1-4c37-8546-4794342c0723"
      },
      "execution_count": 17,
      "outputs": [
        {
          "output_type": "display_data",
          "data": {
            "text/plain": [
              "<IPython.core.display.HTML object>"
            ],
            "text/html": [
              "\n",
              "            <style>\n",
              "                .geemap-dark {\n",
              "                    --jp-widgets-color: white;\n",
              "                    --jp-widgets-label-color: white;\n",
              "                    --jp-ui-font-color1: white;\n",
              "                    --jp-layout-color2: #454545;\n",
              "                    background-color: #383838;\n",
              "                }\n",
              "\n",
              "                .geemap-dark .jupyter-button {\n",
              "                    --jp-layout-color3: #383838;\n",
              "                }\n",
              "\n",
              "                .geemap-colab {\n",
              "                    background-color: var(--colab-primary-surface-color, white);\n",
              "                }\n",
              "\n",
              "                .geemap-colab .jupyter-button {\n",
              "                    --jp-layout-color3: var(--colab-primary-surface-color, white);\n",
              "                }\n",
              "            </style>\n",
              "            "
            ]
          },
          "metadata": {}
        }
      ]
    },
    {
      "cell_type": "code",
      "source": [
        "# Convert training data to a pandas DataFrame\n",
        "training_df = geemap.ee_to_df(train)\n",
        "\n",
        "# Display the Unique targets\n",
        "training_df['PH Category'].value_counts()"
      ],
      "metadata": {
        "colab": {
          "base_uri": "https://localhost:8080/",
          "height": 104
        },
        "id": "5dkGNua0A4vS",
        "outputId": "2a67a7e7-dd46-4f03-bd2a-6e4c4b9d6867"
      },
      "execution_count": 18,
      "outputs": [
        {
          "output_type": "display_data",
          "data": {
            "text/plain": [
              "<IPython.core.display.HTML object>"
            ],
            "text/html": [
              "\n",
              "            <style>\n",
              "                .geemap-dark {\n",
              "                    --jp-widgets-color: white;\n",
              "                    --jp-widgets-label-color: white;\n",
              "                    --jp-ui-font-color1: white;\n",
              "                    --jp-layout-color2: #454545;\n",
              "                    background-color: #383838;\n",
              "                }\n",
              "\n",
              "                .geemap-dark .jupyter-button {\n",
              "                    --jp-layout-color3: #383838;\n",
              "                }\n",
              "\n",
              "                .geemap-colab {\n",
              "                    background-color: var(--colab-primary-surface-color, white);\n",
              "                }\n",
              "\n",
              "                .geemap-colab .jupyter-button {\n",
              "                    --jp-layout-color3: var(--colab-primary-surface-color, white);\n",
              "                }\n",
              "            </style>\n",
              "            "
            ]
          },
          "metadata": {}
        },
        {
          "output_type": "execute_result",
          "data": {
            "text/plain": [
              "2    42\n",
              "3    30\n",
              "4    18\n",
              "5    11\n",
              "Name: PH Category, dtype: int64"
            ]
          },
          "metadata": {},
          "execution_count": 18
        }
      ]
    },
    {
      "cell_type": "code",
      "source": [
        "# Convert training data to a pandas DataFrame\n",
        "validation_df = geemap.ee_to_df(val)\n",
        "\n",
        "# Display the DataFrame\n",
        "validation_df['PH Category'].value_counts()"
      ],
      "metadata": {
        "colab": {
          "base_uri": "https://localhost:8080/",
          "height": 121
        },
        "id": "lCe3M02wA7gP",
        "outputId": "b2fc2746-937b-4425-93b7-0dffc2d098cf"
      },
      "execution_count": 19,
      "outputs": [
        {
          "output_type": "display_data",
          "data": {
            "text/plain": [
              "<IPython.core.display.HTML object>"
            ],
            "text/html": [
              "\n",
              "            <style>\n",
              "                .geemap-dark {\n",
              "                    --jp-widgets-color: white;\n",
              "                    --jp-widgets-label-color: white;\n",
              "                    --jp-ui-font-color1: white;\n",
              "                    --jp-layout-color2: #454545;\n",
              "                    background-color: #383838;\n",
              "                }\n",
              "\n",
              "                .geemap-dark .jupyter-button {\n",
              "                    --jp-layout-color3: #383838;\n",
              "                }\n",
              "\n",
              "                .geemap-colab {\n",
              "                    background-color: var(--colab-primary-surface-color, white);\n",
              "                }\n",
              "\n",
              "                .geemap-colab .jupyter-button {\n",
              "                    --jp-layout-color3: var(--colab-primary-surface-color, white);\n",
              "                }\n",
              "            </style>\n",
              "            "
            ]
          },
          "metadata": {}
        },
        {
          "output_type": "execute_result",
          "data": {
            "text/plain": [
              "2    20\n",
              "3    14\n",
              "4     7\n",
              "5     2\n",
              "1     1\n",
              "Name: PH Category, dtype: int64"
            ]
          },
          "metadata": {},
          "execution_count": 19
        }
      ]
    },
    {
      "cell_type": "code",
      "source": [
        "from sklearn.metrics import classification_report, confusion_matrix\n",
        "\n",
        "# Extract actual and predicted values for training and validation data\n",
        "train_actual = training_df[target]\n",
        "train_predicted = training_df['classification']\n",
        "val_actual = validation_df[target]\n",
        "val_predicted = validation_df['classification']\n",
        "\n",
        "# Print classification report and confusion matrix for training data\n",
        "print(\"Training Data Metrics:\")\n",
        "print(classification_report(train_actual, train_predicted))\n",
        "print(\"Confusion Matrix:\")\n",
        "print(confusion_matrix(train_actual, train_predicted))\n",
        "\n",
        "# Print classification report and confusion matrix for validation data\n",
        "print(\"\\nValidation Data Metrics:\")\n",
        "print(classification_report(val_actual, val_predicted))\n",
        "print(\"Confusion Matrix:\")\n",
        "print(confusion_matrix(val_actual, val_predicted))\n"
      ],
      "metadata": {
        "id": "ReFi8kvlO9Vc",
        "colab": {
          "base_uri": "https://localhost:8080/",
          "height": 783
        },
        "outputId": "5633654a-b418-4981-b237-a97694d4ed33"
      },
      "execution_count": 20,
      "outputs": [
        {
          "output_type": "display_data",
          "data": {
            "text/plain": [
              "<IPython.core.display.HTML object>"
            ],
            "text/html": [
              "\n",
              "            <style>\n",
              "                .geemap-dark {\n",
              "                    --jp-widgets-color: white;\n",
              "                    --jp-widgets-label-color: white;\n",
              "                    --jp-ui-font-color1: white;\n",
              "                    --jp-layout-color2: #454545;\n",
              "                    background-color: #383838;\n",
              "                }\n",
              "\n",
              "                .geemap-dark .jupyter-button {\n",
              "                    --jp-layout-color3: #383838;\n",
              "                }\n",
              "\n",
              "                .geemap-colab {\n",
              "                    background-color: var(--colab-primary-surface-color, white);\n",
              "                }\n",
              "\n",
              "                .geemap-colab .jupyter-button {\n",
              "                    --jp-layout-color3: var(--colab-primary-surface-color, white);\n",
              "                }\n",
              "            </style>\n",
              "            "
            ]
          },
          "metadata": {}
        },
        {
          "output_type": "stream",
          "name": "stdout",
          "text": [
            "Training Data Metrics:\n",
            "              precision    recall  f1-score   support\n",
            "\n",
            "           2       1.00      0.98      0.99        42\n",
            "           3       0.97      1.00      0.98        30\n",
            "           4       1.00      1.00      1.00        18\n",
            "           5       1.00      1.00      1.00        11\n",
            "\n",
            "    accuracy                           0.99       101\n",
            "   macro avg       0.99      0.99      0.99       101\n",
            "weighted avg       0.99      0.99      0.99       101\n",
            "\n",
            "Confusion Matrix:\n",
            "[[41  1  0  0]\n",
            " [ 0 30  0  0]\n",
            " [ 0  0 18  0]\n",
            " [ 0  0  0 11]]\n",
            "\n",
            "Validation Data Metrics:\n",
            "              precision    recall  f1-score   support\n",
            "\n",
            "           1       0.00      0.00      0.00         1\n",
            "           2       0.53      0.80      0.64        20\n",
            "           3       1.00      0.29      0.44        14\n",
            "           4       0.43      0.43      0.43         7\n",
            "           5       0.00      0.00      0.00         2\n",
            "\n",
            "    accuracy                           0.52        44\n",
            "   macro avg       0.39      0.30      0.30        44\n",
            "weighted avg       0.63      0.52      0.50        44\n",
            "\n",
            "Confusion Matrix:\n",
            "[[ 0  1  0  0  0]\n",
            " [ 0 16  0  2  2]\n",
            " [ 0  8  4  1  1]\n",
            " [ 0  4  0  3  0]\n",
            " [ 0  1  0  1  0]]\n"
          ]
        },
        {
          "output_type": "stream",
          "name": "stderr",
          "text": [
            "/usr/local/lib/python3.10/dist-packages/sklearn/metrics/_classification.py:1344: UndefinedMetricWarning: Precision and F-score are ill-defined and being set to 0.0 in labels with no predicted samples. Use `zero_division` parameter to control this behavior.\n",
            "  _warn_prf(average, modifier, msg_start, len(result))\n",
            "/usr/local/lib/python3.10/dist-packages/sklearn/metrics/_classification.py:1344: UndefinedMetricWarning: Precision and F-score are ill-defined and being set to 0.0 in labels with no predicted samples. Use `zero_division` parameter to control this behavior.\n",
            "  _warn_prf(average, modifier, msg_start, len(result))\n",
            "/usr/local/lib/python3.10/dist-packages/sklearn/metrics/_classification.py:1344: UndefinedMetricWarning: Precision and F-score are ill-defined and being set to 0.0 in labels with no predicted samples. Use `zero_division` parameter to control this behavior.\n",
            "  _warn_prf(average, modifier, msg_start, len(result))\n"
          ]
        }
      ]
    },
    {
      "cell_type": "code",
      "source": [
        "import time\n",
        "\n",
        "# Sample classifier (replace this with your actual classifier)\n",
        "classifier = trained_regressor\n",
        "\n",
        "# Define the export parameters\n",
        "description = 'RF_Model_ph'\n",
        "assetId = 'projects/ee-vertifysaptarshi/assets/RF_Model_ph'\n",
        "priority = 10\n",
        "\n",
        "# Create an export classifier task to run.\n",
        "# asset_id = 'projects/ee-vertifysaptarshi/assets/RF_Model_ph' # <> modify these\n",
        "export_task = ee.batch.Export.classifier.toAsset(\n",
        "    classifier=trained_regressor,\n",
        "    description=description,\n",
        "    assetId=assetId\n",
        "    )\n",
        "\n",
        "# Wait for the export task to complete\n",
        "print('Exporting classifier...')\n",
        "print(export_task.status())\n",
        "export_task.start()\n",
        "# Check the status of the export task\n",
        "while export_task.active():\n",
        "    print('Export task is still active...')\n",
        "    time.sleep(10)\n",
        "    print(export_task.status())\n",
        "\n",
        "# Once the task is completed, print the final status\n",
        "print('Classifier export completed:', export_task.status())"
      ],
      "metadata": {
        "colab": {
          "base_uri": "https://localhost:8080/",
          "height": 124
        },
        "id": "wUJntkAHWS9U",
        "outputId": "7b6bb710-428f-45c2-cfc6-91e7c982a0c3"
      },
      "execution_count": 21,
      "outputs": [
        {
          "output_type": "display_data",
          "data": {
            "text/plain": [
              "<IPython.core.display.HTML object>"
            ],
            "text/html": [
              "\n",
              "            <style>\n",
              "                .geemap-dark {\n",
              "                    --jp-widgets-color: white;\n",
              "                    --jp-widgets-label-color: white;\n",
              "                    --jp-ui-font-color1: white;\n",
              "                    --jp-layout-color2: #454545;\n",
              "                    background-color: #383838;\n",
              "                }\n",
              "\n",
              "                .geemap-dark .jupyter-button {\n",
              "                    --jp-layout-color3: #383838;\n",
              "                }\n",
              "\n",
              "                .geemap-colab {\n",
              "                    background-color: var(--colab-primary-surface-color, white);\n",
              "                }\n",
              "\n",
              "                .geemap-colab .jupyter-button {\n",
              "                    --jp-layout-color3: var(--colab-primary-surface-color, white);\n",
              "                }\n",
              "            </style>\n",
              "            "
            ]
          },
          "metadata": {}
        },
        {
          "output_type": "stream",
          "name": "stdout",
          "text": [
            "Exporting classifier...\n",
            "{'state': <State.UNSUBMITTED: 'UNSUBMITTED'>}\n",
            "Export task is still active...\n",
            "{'state': 'FAILED', 'description': 'RF_Model_ph', 'priority': 100, 'creation_timestamp_ms': 1710837201677, 'update_timestamp_ms': 1710837211938, 'start_timestamp_ms': 1710837211577, 'task_type': 'EXPORT_CLASSIFIER', 'attempt': 1, 'error_message': \"Cannot overwrite asset 'projects/ee-vertifysaptarshi/assets/RF_Model_ph'.\", 'id': 'LX36YB5G3EV2MIW2TM2CDBLB', 'name': 'projects/ee-vertifysaptarshi/operations/LX36YB5G3EV2MIW2TM2CDBLB'}\n",
            "Classifier export completed: {'state': 'FAILED', 'description': 'RF_Model_ph', 'priority': 100, 'creation_timestamp_ms': 1710837201677, 'update_timestamp_ms': 1710837211938, 'start_timestamp_ms': 1710837211577, 'task_type': 'EXPORT_CLASSIFIER', 'attempt': 1, 'error_message': \"Cannot overwrite asset 'projects/ee-vertifysaptarshi/assets/RF_Model_ph'.\", 'id': 'LX36YB5G3EV2MIW2TM2CDBLB', 'name': 'projects/ee-vertifysaptarshi/operations/LX36YB5G3EV2MIW2TM2CDBLB'}\n"
          ]
        }
      ]
    }
  ]
}