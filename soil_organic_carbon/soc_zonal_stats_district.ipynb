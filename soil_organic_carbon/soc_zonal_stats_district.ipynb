{
 "cells": [
  {
   "cell_type": "code",
   "execution_count": null,
   "metadata": {},
   "outputs": [],
   "source": [
    "raster_patj = \"\"\n",
    "stats = rasterstats.zonal_stats(raster.geometry(), raster_paths, stats=['mean', 'median', 'min', 'max', 'sum'])\n"
   ]
  },
  {
   "cell_type": "code",
   "execution_count": 1,
   "metadata": {},
   "outputs": [],
   "source": [
    "raster_path = \"/soc_l8_Bolangir_23_30m_masked_tons.tif\""
   ]
  },
  {
   "cell_type": "code",
   "execution_count": 2,
   "metadata": {},
   "outputs": [
    {
     "name": "stderr",
     "output_type": "stream",
     "text": [
      "/Users/najah/miniforge3/envs/ee/lib/python3.9/site-packages/rasterstats/io.py:328: NodataWarning: Setting nodata to -999; specify nodata explicitly\n",
      "  warnings.warn(\n"
     ]
    },
    {
     "name": "stdout",
     "output_type": "stream",
     "text": [
      "[{'min': 8.864177325367928, 'max': 15.151887479424476, 'mean': 12.628264878396545, 'median': 12.670277559757233}]\n"
     ]
    }
   ],
   "source": [
    "import rasterio\n",
    "import rasterstats\n",
    "from shapely.geometry import box\n",
    "\n",
    "# Open the raster and get its bounds\n",
    "with rasterio.open(raster_path) as src:\n",
    "    bounds = src.bounds\n",
    "\n",
    "# Create a geometry that covers the whole raster\n",
    "geometry = [box(*bounds)]\n",
    "\n",
    "# Compute the statistics\n",
    "stats = rasterstats.zonal_stats(geometry, raster_path, stats=['mean', 'median', 'min', 'max', 'sum'])\n",
    "\n",
    "print(stats)"
   ]
  },
  {
   "cell_type": "code",
   "execution_count": 3,
   "metadata": {},
   "outputs": [
    {
     "name": "stdout",
     "output_type": "stream",
     "text": [
      "Bolangir\n",
      "Medak\n",
      "Yavatmal\n",
      "Bolangir\n",
      "Medak\n",
      "Yavatmal\n"
     ]
    }
   ],
   "source": [
    "import rasterio\n",
    "import rasterstats\n",
    "from shapely.geometry import box\n",
    "\n",
    "import pandas as pd\n",
    "datasets = {22: ['Bolangir', 'Medak', 'Yavatmal'], 23: ['Bolangir', 'Medak', 'Yavatmal']}\n",
    "results = []\n",
    "for year, regions in datasets.items():\n",
    "        for region in regions:\n",
    "            print(region)\n",
    "            raster_path = f'/new_out/soc_l8_{region}_{year}_30m_masked_esri_tons.tif'\n",
    "        # Open the raster and get its bounds\n",
    "            with rasterio.open(raster_path) as src:\n",
    "                bounds = src.bounds\n",
    "\n",
    "            # Create a geometry that covers the whole raster\n",
    "            geometry = [box(*bounds)]\n",
    "\n",
    "            # Compute the statistics\n",
    "            stats = rasterstats.zonal_stats(geometry, raster_path, stats=['mean', 'median', 'min', 'max', 'sum'])\n",
    "\n",
    "            #print(stats)\n",
    "            # add region and year\n",
    "\n",
    "            stats[0]['region']= region\n",
    "            stats[0]['year']= year\n",
    "\n",
    "            # append the results\n",
    "\n",
    "            results.append(stats[0])\n",
    "\n",
    "df = pd.DataFrame(results)    \n",
    "# Write the DataFrame to a CSV file\n",
    "df.to_csv('zonal_stats_new.csv', index=False)        "
   ]
  },
  {
   "cell_type": "code",
   "execution_count": 4,
   "metadata": {},
   "outputs": [
    {
     "data": {
      "text/html": [
       "<div>\n",
       "<style scoped>\n",
       "    .dataframe tbody tr th:only-of-type {\n",
       "        vertical-align: middle;\n",
       "    }\n",
       "\n",
       "    .dataframe tbody tr th {\n",
       "        vertical-align: top;\n",
       "    }\n",
       "\n",
       "    .dataframe thead th {\n",
       "        text-align: right;\n",
       "    }\n",
       "</style>\n",
       "<table border=\"1\" class=\"dataframe\">\n",
       "  <thead>\n",
       "    <tr style=\"text-align: right;\">\n",
       "      <th></th>\n",
       "      <th>min</th>\n",
       "      <th>max</th>\n",
       "      <th>mean</th>\n",
       "      <th>sum</th>\n",
       "      <th>median</th>\n",
       "      <th>region</th>\n",
       "      <th>year</th>\n",
       "    </tr>\n",
       "  </thead>\n",
       "  <tbody>\n",
       "    <tr>\n",
       "      <th>0</th>\n",
       "      <td>6.304927</td>\n",
       "      <td>9.983869</td>\n",
       "      <td>8.336409</td>\n",
       "      <td>2.833978e+07</td>\n",
       "      <td>8.329373</td>\n",
       "      <td>Bolangir</td>\n",
       "      <td>22</td>\n",
       "    </tr>\n",
       "    <tr>\n",
       "      <th>1</th>\n",
       "      <td>5.682813</td>\n",
       "      <td>10.412733</td>\n",
       "      <td>7.865303</td>\n",
       "      <td>6.287914e+07</td>\n",
       "      <td>7.848365</td>\n",
       "      <td>Medak</td>\n",
       "      <td>22</td>\n",
       "    </tr>\n",
       "    <tr>\n",
       "      <th>2</th>\n",
       "      <td>5.662558</td>\n",
       "      <td>9.851213</td>\n",
       "      <td>7.694682</td>\n",
       "      <td>7.423342e+07</td>\n",
       "      <td>7.596926</td>\n",
       "      <td>Yavatmal</td>\n",
       "      <td>22</td>\n",
       "    </tr>\n",
       "    <tr>\n",
       "      <th>3</th>\n",
       "      <td>6.219724</td>\n",
       "      <td>9.824923</td>\n",
       "      <td>8.342904</td>\n",
       "      <td>2.836186e+07</td>\n",
       "      <td>8.341067</td>\n",
       "      <td>Bolangir</td>\n",
       "      <td>23</td>\n",
       "    </tr>\n",
       "    <tr>\n",
       "      <th>4</th>\n",
       "      <td>5.534774</td>\n",
       "      <td>10.532301</td>\n",
       "      <td>7.846703</td>\n",
       "      <td>6.273044e+07</td>\n",
       "      <td>7.810954</td>\n",
       "      <td>Medak</td>\n",
       "      <td>23</td>\n",
       "    </tr>\n",
       "    <tr>\n",
       "      <th>5</th>\n",
       "      <td>5.654472</td>\n",
       "      <td>9.527905</td>\n",
       "      <td>7.635696</td>\n",
       "      <td>7.366436e+07</td>\n",
       "      <td>7.527410</td>\n",
       "      <td>Yavatmal</td>\n",
       "      <td>23</td>\n",
       "    </tr>\n",
       "  </tbody>\n",
       "</table>\n",
       "</div>"
      ],
      "text/plain": [
       "        min        max      mean           sum    median    region  year\n",
       "0  6.304927   9.983869  8.336409  2.833978e+07  8.329373  Bolangir    22\n",
       "1  5.682813  10.412733  7.865303  6.287914e+07  7.848365     Medak    22\n",
       "2  5.662558   9.851213  7.694682  7.423342e+07  7.596926  Yavatmal    22\n",
       "3  6.219724   9.824923  8.342904  2.836186e+07  8.341067  Bolangir    23\n",
       "4  5.534774  10.532301  7.846703  6.273044e+07  7.810954     Medak    23\n",
       "5  5.654472   9.527905  7.635696  7.366436e+07  7.527410  Yavatmal    23"
      ]
     },
     "execution_count": 4,
     "metadata": {},
     "output_type": "execute_result"
    }
   ],
   "source": [
    "df"
   ]
  },
  {
   "cell_type": "code",
   "execution_count": 15,
   "metadata": {},
   "outputs": [
    {
     "data": {
      "text/plain": [
       "dict"
      ]
     },
     "execution_count": 15,
     "metadata": {},
     "output_type": "execute_result"
    }
   ],
   "source": [
    "type(stats[0])"
   ]
  },
  {
   "cell_type": "code",
   "execution_count": 20,
   "metadata": {},
   "outputs": [
    {
     "data": {
      "text/html": [
       "<div>\n",
       "<style scoped>\n",
       "    .dataframe tbody tr th:only-of-type {\n",
       "        vertical-align: middle;\n",
       "    }\n",
       "\n",
       "    .dataframe tbody tr th {\n",
       "        vertical-align: top;\n",
       "    }\n",
       "\n",
       "    .dataframe thead th {\n",
       "        text-align: right;\n",
       "    }\n",
       "</style>\n",
       "<table border=\"1\" class=\"dataframe\">\n",
       "  <thead>\n",
       "    <tr style=\"text-align: right;\">\n",
       "      <th></th>\n",
       "      <th>min</th>\n",
       "      <th>max</th>\n",
       "      <th>mean</th>\n",
       "      <th>median</th>\n",
       "    </tr>\n",
       "  </thead>\n",
       "  <tbody>\n",
       "    <tr>\n",
       "      <th>0</th>\n",
       "      <td>8.542728</td>\n",
       "      <td>14.640439</td>\n",
       "      <td>11.595337</td>\n",
       "      <td>11.464376</td>\n",
       "    </tr>\n",
       "  </tbody>\n",
       "</table>\n",
       "</div>"
      ],
      "text/plain": [
       "        min        max       mean     median\n",
       "0  8.542728  14.640439  11.595337  11.464376"
      ]
     },
     "execution_count": 20,
     "metadata": {},
     "output_type": "execute_result"
    }
   ],
   "source": [
    "import pandas as pd\n",
    "pd.DataFrame(stats)"
   ]
  },
  {
   "cell_type": "markdown",
   "metadata": {},
   "source": [
    "## subdistrict wise"
   ]
  },
  {
   "cell_type": "code",
   "execution_count": 26,
   "metadata": {},
   "outputs": [],
   "source": [
    "import overpy\n",
    "\n",
    "# Initialize the Overpass API client\n",
    "api = overpy.Overpass()\n",
    "\n",
    "# Specify the name of the district\n",
    "district_name = 'Bolangir'\n",
    "\n",
    "# Query the Overpass API for the subdistricts within the district\n",
    "result = api.query(f\"\"\"\n",
    "    area[\"name\"=\"{district_name}\"][\"admin_level\"=\"6\"];\n",
    "    (relation(area)[\"admin_level\"=\"7\"];\n",
    "    way(area)[\"admin_level\"=\"7\"];\n",
    "    node(area)[\"admin_level\"=\"7\"];);\n",
    "    out;\n",
    "\"\"\")\n",
    "\n",
    "# Print the names of the subdistricts\n",
    "for relation in result.relations:\n",
    "    print(relation.tags.get('name', 'Unnamed'))"
   ]
  },
  {
   "cell_type": "code",
   "execution_count": null,
   "metadata": {},
   "outputs": [],
   "source": []
  }
 ],
 "metadata": {
  "kernelspec": {
   "display_name": "ee",
   "language": "python",
   "name": "python3"
  },
  "language_info": {
   "codemirror_mode": {
    "name": "ipython",
    "version": 3
   },
   "file_extension": ".py",
   "mimetype": "text/x-python",
   "name": "python",
   "nbconvert_exporter": "python",
   "pygments_lexer": "ipython3",
   "version": "3.9.18"
  }
 },
 "nbformat": 4,
 "nbformat_minor": 2
}
